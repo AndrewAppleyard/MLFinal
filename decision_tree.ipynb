{
 "cells": [
  {
   "cell_type": "code",
   "execution_count": 46,
   "id": "39434d40",
   "metadata": {},
   "outputs": [],
   "source": [
    "import pandas as pd\n",
    "import numpy as np\n",
    "import seaborn as sns\n",
    "import matplotlib.pyplot as plt\n",
    "from sklearn.model_selection import train_test_split\n",
    "from sklearn.feature_selection import RFE\n",
    "from sklearn.tree import DecisionTreeClassifier, plot_tree\n",
    "from sklearn import metrics\n",
    "pd.set_option(\"display.max_rows\", None, \"display.max_columns\", None)"
   ]
  },
  {
   "cell_type": "code",
   "execution_count": 47,
   "id": "939555f1",
   "metadata": {},
   "outputs": [],
   "source": [
    "d2024 = pd.read_csv(\"pppub24.csv\")\n",
    "d2023 = pd.read_csv(\"pppub23.csv\")\n",
    "d2022 = pd.read_csv(\"pppub22.csv\")\n",
    "d2021 = pd.read_csv(\"pppub21.csv\")\n",
    "\n",
    "data = pd.concat([d2024, d2023, d2022, d2021], ignore_index=True)\n",
    "\n",
    "rfe_features100 = data[['HHDFMX', 'CHCARE_YN', 'RINT_YN', 'RETCB_YN' , 'RNT_YN' , 'SS_YN', 'SSI_YN', 'SUR_YN', 'UC_YN', 'VET_YN', 'WC_YN', 'CSP_YN', 'PAW_YN', 'WICYN', 'CHELSEW_YN', 'CHSP_YN', 'POTHVAL', 'RESNSS1', 'RESNSS2', 'RESNSSI1', 'RESNSSI2', 'RETCB_VAL', 'RINT_SC1', 'RINT_SC2', 'RINT_VAL1', 'RINT_VAL2', 'RNT_VAL', 'SRVS_VAL', 'SS_VAL', 'SSI_VAL', 'STRKUC', 'SUBUC', 'SUR_SC1', 'SUR_SC2', 'SUR_VAL1', 'SUR_VAL2', 'TRDINT_VAL', 'TSURVAL1', 'TSURVAL2', 'UC_VAL', 'VET_QVA', 'VET_TYP1', 'VET_TYP2', 'VET_TYP3', 'VET_TYP4', 'VET_TYP5', 'VET_VAL', 'WC_TYPE', 'WC_VAL', 'PAW_MON', 'PAW_TYP', 'PAW_VAL', 'PENINCL', 'PENPLAN', 'CHSP_VAL', 'CSP_VAL', 'ACTC_CRD', 'CTC_CRD', 'DEP_STAT', 'EIT_CRED', 'FEDTAX_AC', 'FEDTAX_BC', 'FICA', 'FILESTAT', 'MARG_TAX', 'PRSWKXPNS', 'STATETAX_A', 'STATETAX_B', 'PERLIS', 'POV_UNIV', 'COV', 'COV_CYR', 'COV_MULT_CYR', 'NOCOV_CYR', 'NOW_COV', 'NOW_PUB', 'PUB', 'PUB_CYR', 'NOW_DEPPRIV', 'NOW_OUTPRIV', 'NOW_OWNPRIV', 'NOW_PRIV', 'OUTPRIV', 'OWNPRIV', 'PRIV', 'PRIV_CYR', 'DEPGRP', 'GRPFTYP', 'GRPFTYP2', 'MRK', 'NOW_CAID', 'NOW_PCHIP', 'NOW_MCARE', 'NOW_IHSFLG', 'NOW_VACARE', 'PECOULD', 'ESIOFFER']]\n",
    "rfe_features50 = data[['CHCARE_YN', 'CHELSEW_YN', 'CHSP_VAL', 'CHSP_YN', 'CSP_VAL', 'CSP_YN', 'ACTC_CRD', 'CTC_CRD', 'DEP_STAT', 'EIT_CRED', 'FEDTAX_AC', 'FEDTAX_BC', 'FICA', 'FILESTAT', 'MARG_TAX', 'PRSWKXPNS', 'STATETAX_A', 'STATETAX_B', 'PERLIS', 'POV_UNIV', 'COV', 'COV_CYR', 'COV_MULT_CYR', 'NOCOV_CYR', 'NOW_COV', 'NOW_PUB', 'PUB', 'DEPPRIV', 'NOW_DEPPRIV', 'NOW_OUTPRIV', 'NOW_OWNPRIV', 'NOW_PRIV', 'OUTPRIV', 'OWNPRIV', 'PRIV', 'PRIV_CYR', 'GRP', 'GRPFTYP', 'GRPFTYP2', 'NOW_MCAID', 'NOW_CAID', 'NOW_PCHIP', 'NOW_MCARE', 'NOW_IHSFLG', 'ESICOULD']]\n",
    "rfe_features20 = data[['CSP_VAL', 'CSP_YN', 'FEDTAX_AC', 'FEDTAX_BC', 'FICA', 'FILESTAT', 'PRSWKXPNS', 'STATETAX_A', 'STATETAX_B', 'PERLIS', 'COV_MULT_CYR', 'DEPPRIV', 'NOW_OWNPRIV', 'OWNPRIV', 'GRPFTYP2', 'NOW_MCARE']]"
   ]
  },
  {
   "cell_type": "code",
   "execution_count": 48,
   "id": "7ba8362a",
   "metadata": {},
   "outputs": [
    {
     "name": "stdout",
     "output_type": "stream",
     "text": [
      "Accuracy: 0.97493983582598\n"
     ]
    }
   ],
   "source": [
    "X = rfe_features100\n",
    "y = data['PTOT_R']\n",
    "\n",
    "\n",
    "X_train, X_test, y_train, y_test = train_test_split(X, y, test_size=0.3, random_state=1)\n",
    "clf = DecisionTreeClassifier()\n",
    "clf.fit(X_train,y_train)\n",
    "\n",
    "y_pred = clf.predict(X_test)\n",
    "print(\"Accuracy:\",metrics.accuracy_score(y_test, y_pred))\n",
    "\n",
    "#0.6871133284249623 - 3\n",
    "#0.6947945626971133 - 20\n",
    "#0.7049482972714586 - 50\n",
    "#0.9748189580334282 - 100\n",
    "#0.9881924374457424 - 294"
   ]
  },
  {
   "cell_type": "code",
   "execution_count": 106,
   "id": "f072e91d",
   "metadata": {},
   "outputs": [
    {
     "name": "stdout",
     "output_type": "stream",
     "text": [
      "Decision path for a sample from class 41:\n",
      "\n",
      "Node 0: VET_YN (value: 2.00) > 0.50\n",
      "Node 2: FICA (value: 7650.00) > 7631.50\n",
      "Node 16266: DEPGRP (value: 1.00) > 0.50\n",
      "Node 17064: FEDTAX_BC (value: 0.00) <= 13772.00\n",
      "Node 17065: MARG_TAX (value: 0.00) <= 5.00\n",
      "Node 17066: RETCB_VAL (value: 23500.00) > 3.00\n",
      "Node 17392: FICA (value: 7650.00) > 7641.50\n",
      "Node 17394: POTHVAL (value: 6700.00) > -9768.50\n",
      "Node 17398: RINT_SC1 (value: 1.00) <= 2.50\n",
      "Node 17399: POTHVAL (value: 6700.00) > 1.50\n",
      "Node 17419: FICA (value: 7650.00) <= 9902.50\n",
      "Node 17420: FICA (value: 7650.00) <= 9885.50\n",
      "Node 17421: RNT_VAL (value: 0.00) <= 0.50\n",
      "Node 17422: RETCB_VAL (value: 23500.00) <= 29750.00\n",
      "Node 17423: NOCOV_CYR (value: 1.00) <= 1.50\n",
      "Node 17424: RETCB_VAL (value: 23500.00) > 2008.00\n",
      "Node 17434: RINT_VAL2 (value: 1000.00) > 91.50\n",
      "Node 17450: RINT_VAL2 (value: 1000.00) > 96.50\n",
      "Node 17452: RETCB_VAL (value: 23500.00) > 6050.00\n",
      "==> Reached leaf node 17468\n"
     ]
    },
    {
     "name": "stderr",
     "output_type": "stream",
     "text": [
      "c:\\Users\\aa398\\Desktop\\MLProject\\venv\\Lib\\site-packages\\sklearn\\utils\\validation.py:2739: UserWarning: X does not have valid feature names, but DecisionTreeClassifier was fitted with feature names\n",
      "  warnings.warn(\n",
      "c:\\Users\\aa398\\Desktop\\MLProject\\venv\\Lib\\site-packages\\sklearn\\utils\\validation.py:2739: UserWarning: X does not have valid feature names, but DecisionTreeClassifier was fitted with feature names\n",
      "  warnings.warn(\n"
     ]
    }
   ],
   "source": [
    "from sklearn.tree import _tree\n",
    "\n",
    "#change target feature class\n",
    "#index 2 - class 1\n",
    "#index 26 - class 2\n",
    "#index 16 - class 3\n",
    "#index 40 - class 40\n",
    "#index 10 - class 41\n",
    "first_class = y_train.unique()[10]\n",
    "\n",
    "#change row\n",
    "index = y_train[y_train == first_class].index[2]\n",
    "instance = X_train.loc[index].values.reshape(1, -1)\n",
    "\n",
    "\n",
    "\n",
    "\n",
    "\n",
    "\n",
    "node_indicator = clf.decision_path(instance)\n",
    "leaf_id = clf.apply(instance)[0]\n",
    "\n",
    "tree_ = clf.tree_\n",
    "feature_names = [X.columns[i] if i != _tree.TREE_UNDEFINED else \"undefined!\" for i in tree_.feature]\n",
    "\n",
    "print(f\"Decision path for a sample from class {first_class}:\\n\")\n",
    "\n",
    "for node_id in node_indicator.indices:\n",
    "    if leaf_id == node_id:\n",
    "        print(f\"==> Reached leaf node {node_id}\")\n",
    "        break\n",
    "\n",
    "    feature = feature_names[node_id]\n",
    "    threshold = tree_.threshold[node_id]\n",
    "    if instance[0, tree_.feature[node_id]] <= threshold:\n",
    "        condition = \"<=\"\n",
    "    else:\n",
    "        condition = \">\"\n",
    "\n",
    "    value = instance[0, tree_.feature[node_id]]\n",
    "    print(f\"Node {node_id}: {feature} (value: {value:.2f}) {condition} {threshold:.2f}\")"
   ]
  }
 ],
 "metadata": {
  "kernelspec": {
   "display_name": "venv",
   "language": "python",
   "name": "python3"
  },
  "language_info": {
   "codemirror_mode": {
    "name": "ipython",
    "version": 3
   },
   "file_extension": ".py",
   "mimetype": "text/x-python",
   "name": "python",
   "nbconvert_exporter": "python",
   "pygments_lexer": "ipython3",
   "version": "3.11.9"
  }
 },
 "nbformat": 4,
 "nbformat_minor": 5
}
