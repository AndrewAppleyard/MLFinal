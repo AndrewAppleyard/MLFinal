{
 "cells": [
  {
   "cell_type": "code",
   "execution_count": 7,
   "id": "fde11e97",
   "metadata": {},
   "outputs": [],
   "source": [
    "import pandas as pd\n",
    "import numpy as np\n",
    "import seaborn as sns\n",
    "import matplotlib.pyplot as plt\n",
    "from sklearn.model_selection import train_test_split\n",
    "from sklearn.feature_selection import RFE\n",
    "from sklearn.preprocessing import MinMaxScaler\n",
    "from sklearn.tree import DecisionTreeClassifier, plot_tree\n",
    "from sklearn import metrics, svm\n",
    "from sklearn.svm import LinearSVC\n",
    "from sklearn.metrics import classification_report\n",
    "from sklearn.model_selection import GridSearchCV\n",
    "from sklearn.pipeline import Pipeline\n",
    "pd.set_option(\"display.max_rows\", None, \"display.max_columns\", None)"
   ]
  },
  {
   "cell_type": "code",
   "execution_count": 8,
   "id": "cca01416",
   "metadata": {},
   "outputs": [],
   "source": [
    "d2024 = pd.read_csv(\"pppub24.csv\")\n",
    "d2023 = pd.read_csv(\"pppub23.csv\")\n",
    "d2022 = pd.read_csv(\"pppub22.csv\")\n",
    "d2021 = pd.read_csv(\"pppub21.csv\")\n",
    "\n",
    "data = pd.concat([d2024, d2023, d2022, d2021], ignore_index=True)\n",
    "data = data.sample(frac=0.025, random_state=42)\n",
    "\n",
    "rfe_features100 = data[['HHDFMX', 'POTHVAL', 'RESNSS1', 'RESNSS2', 'RESNSSI1', 'RESNSSI2', 'RETCB_VAL', 'RETCB_YN', 'RINT_SC1', 'RINT_SC2', 'RINT_VAL1', 'RINT_VAL2', 'RINT_YN', 'RNT_VAL', 'RNT_YN', 'SRVS_VAL', 'SS_VAL', 'SS_YN', 'SSI_VAL', 'SSI_YN', 'STRKUC', 'SUBUC', 'SUR_SC1', 'SUR_SC2', 'SUR_VAL1', 'SUR_VAL2', 'SUR_YN', 'TRDINT_VAL', 'TSURVAL1', 'TSURVAL2', 'UC_VAL', 'UC_YN', 'VET_QVA', 'VET_TYP1', 'VET_TYP2', 'VET_TYP3', 'VET_TYP4', 'VET_TYP5', 'VET_VAL', 'VET_YN', 'WC_TYPE', 'WC_VAL', 'WC_YN', 'PAW_MON', 'PAW_TYP', 'PAW_VAL', 'PAW_YN', 'PENINCL', 'PENPLAN', 'WICYN', 'CHCARE_YN', 'CHELSEW_YN', 'CHSP_VAL', 'CHSP_YN', 'CSP_VAL', 'CSP_YN', 'ACTC_CRD', 'CTC_CRD', 'DEP_STAT', 'EIT_CRED', 'FEDTAX_AC', 'FEDTAX_BC', 'FICA', 'FILESTAT', 'MARG_TAX', 'PRSWKXPNS', 'STATETAX_A', 'STATETAX_B', 'PERLIS', 'POV_UNIV', 'COV', 'COV_CYR', 'COV_MULT_CYR', 'NOCOV_CYR', 'NOW_COV', 'NOW_PUB', 'PUB', 'PUB_CYR', 'NOW_DEPPRIV', 'NOW_OUTPRIV', 'NOW_OWNPRIV', 'NOW_PRIV', 'OUTPRIV', 'OWNPRIV', 'PRIV', 'PRIV_CYR', 'DEPGRP', 'GRPFTYP', 'GRPFTYP2', 'MRK', 'NOW_CAID', 'NOW_PCHIP', 'NOW_MCARE', 'NOW_IHSFLG', 'NOW_VACARE', 'PECOULD', 'ESIOFFER']]\n",
    "rfe_features50 = data[['CHCARE_YN', 'CHELSEW_YN', 'CHSP_VAL', 'CHSP_YN', 'CSP_VAL', 'CSP_YN', 'ACTC_CRD', 'CTC_CRD', 'DEP_STAT', 'EIT_CRED', 'FEDTAX_AC', 'FEDTAX_BC', 'FICA', 'FILESTAT', 'MARG_TAX', 'PRSWKXPNS', 'STATETAX_A', 'STATETAX_B', 'PERLIS', 'POV_UNIV', 'COV', 'COV_CYR', 'COV_MULT_CYR', 'NOCOV_CYR', 'NOW_COV', 'NOW_PUB', 'PUB', 'DEPPRIV', 'NOW_DEPPRIV', 'NOW_OUTPRIV', 'NOW_OWNPRIV', 'NOW_PRIV', 'OUTPRIV', 'OWNPRIV', 'PRIV', 'PRIV_CYR', 'GRP', 'GRPFTYP', 'GRPFTYP2', 'NOW_MCAID', 'NOW_CAID', 'NOW_PCHIP', 'NOW_MCARE', 'NOW_IHSFLG', 'ESICOULD']]\n",
    "rfe_features20 = data[['CSP_VAL', 'CSP_YN', 'FEDTAX_AC', 'FEDTAX_BC', 'FICA', 'FILESTAT', 'PRSWKXPNS', 'STATETAX_A', 'STATETAX_B', 'PERLIS', 'COV_MULT_CYR', 'DEPPRIV', 'NOW_OWNPRIV', 'OWNPRIV', 'GRPFTYP2', 'NOW_MCARE']]"
   ]
  },
  {
   "cell_type": "code",
   "execution_count": 9,
   "id": "0cd7edc3",
   "metadata": {},
   "outputs": [
    {
     "name": "stdout",
     "output_type": "stream",
     "text": [
      "Accuracy: 0.4807734563832125\n",
      "\n",
      "Classification Report:\n",
      "              precision    recall  f1-score   support\n",
      "\n",
      "           0       1.00      1.00      1.00       893\n",
      "           1       0.75      0.97      0.85       595\n",
      "           2       0.12      0.16      0.14        81\n",
      "           3       0.27      0.18      0.22        79\n",
      "           4       0.27      0.17      0.21        80\n",
      "           5       0.30      0.29      0.30       146\n",
      "           6       0.00      0.00      0.00       106\n",
      "           7       0.18      0.44      0.26       140\n",
      "           8       0.17      0.07      0.09        91\n",
      "           9       0.22      0.08      0.12       137\n",
      "          10       0.00      0.00      0.00       103\n",
      "          11       0.12      0.03      0.05       118\n",
      "          12       0.10      0.01      0.03        67\n",
      "          13       0.00      0.00      0.00       149\n",
      "          14       0.00      0.00      0.00        59\n",
      "          15       0.08      0.02      0.03       110\n",
      "          16       0.00      0.00      0.00        41\n",
      "          17       0.12      0.03      0.05       104\n",
      "          18       0.03      0.02      0.02        51\n",
      "          19       0.02      0.01      0.02        69\n",
      "          20       0.00      0.00      0.00        55\n",
      "          21       0.12      0.44      0.19       127\n",
      "          22       0.04      0.38      0.07        40\n",
      "          23       0.08      0.08      0.08        74\n",
      "          24       0.04      0.04      0.04        23\n",
      "          25       0.15      0.03      0.05        71\n",
      "          26       0.00      0.00      0.00        31\n",
      "          27       0.00      0.00      0.00        54\n",
      "          28       0.00      0.00      0.00        26\n",
      "          29       0.00      0.00      0.00        60\n",
      "          30       0.00      0.00      0.00        36\n",
      "          31       0.00      0.00      0.00        39\n",
      "          32       0.00      0.00      0.00        25\n",
      "          33       0.17      0.06      0.09        51\n",
      "          34       0.00      0.00      0.00        22\n",
      "          35       0.00      0.00      0.00        31\n",
      "          36       0.00      0.00      0.00        13\n",
      "          37       0.00      0.00      0.00        28\n",
      "          38       0.00      0.00      0.00         9\n",
      "          39       0.00      0.00      0.00        24\n",
      "          40       0.00      0.00      0.00        21\n",
      "          41       0.68      0.97      0.80       472\n",
      "\n",
      "    accuracy                           0.48      4551\n",
      "   macro avg       0.12      0.13      0.11      4551\n",
      "weighted avg       0.42      0.48      0.44      4551\n",
      "\n"
     ]
    },
    {
     "name": "stderr",
     "output_type": "stream",
     "text": [
      "c:\\Users\\aa398\\Desktop\\MLProject\\venv\\Lib\\site-packages\\sklearn\\svm\\_base.py:1249: ConvergenceWarning: Liblinear failed to converge, increase the number of iterations.\n",
      "  warnings.warn(\n",
      "c:\\Users\\aa398\\Desktop\\MLProject\\venv\\Lib\\site-packages\\sklearn\\metrics\\_classification.py:1565: UndefinedMetricWarning: Precision is ill-defined and being set to 0.0 in labels with no predicted samples. Use `zero_division` parameter to control this behavior.\n",
      "  _warn_prf(average, modifier, f\"{metric.capitalize()} is\", len(result))\n",
      "c:\\Users\\aa398\\Desktop\\MLProject\\venv\\Lib\\site-packages\\sklearn\\metrics\\_classification.py:1565: UndefinedMetricWarning: Precision is ill-defined and being set to 0.0 in labels with no predicted samples. Use `zero_division` parameter to control this behavior.\n",
      "  _warn_prf(average, modifier, f\"{metric.capitalize()} is\", len(result))\n",
      "c:\\Users\\aa398\\Desktop\\MLProject\\venv\\Lib\\site-packages\\sklearn\\metrics\\_classification.py:1565: UndefinedMetricWarning: Precision is ill-defined and being set to 0.0 in labels with no predicted samples. Use `zero_division` parameter to control this behavior.\n",
      "  _warn_prf(average, modifier, f\"{metric.capitalize()} is\", len(result))\n"
     ]
    }
   ],
   "source": [
    "X = rfe_features100\n",
    "y = data['PTOT_R']\n",
    "\n",
    "\n",
    "X_train, X_test, y_train, y_test = train_test_split(X, y, test_size=0.3, random_state=1)\n",
    "\n",
    "pipeline = Pipeline([\n",
    "    ('scaler', MinMaxScaler()),\n",
    "    ('clf', LinearSVC(multi_class='crammer_singer', C=0.5, max_iter=10000))\n",
    "])\n",
    "\n",
    "pipeline.fit(X_train, y_train)\n",
    "\n",
    "y_pred = pipeline.predict(X_test)\n",
    "\n",
    "print(\"Accuracy:\",metrics.accuracy_score(y_test, y_pred))\n",
    "print(\"\\nClassification Report:\")\n",
    "print(classification_report(y_test, y_pred))"
   ]
  },
  {
   "cell_type": "code",
   "execution_count": null,
   "id": "68b9ae2b",
   "metadata": {},
   "outputs": [],
   "source": [
    "X = rfe_features100\n",
    "y = data['PTOT_R']\n",
    "\n",
    "X_train, X_test, y_train, y_test = train_test_split(X, y, test_size=0.3, random_state=1)\n",
    "\n",
    "param_grid = {\n",
    "    'C': [0.01, 0.1, 1, 10],\n",
    "    'tol': [1e-3, 1e-4],\n",
    "    'class_weight': [None, 'balanced'],\n",
    "    'multi_class': ['ovr', 'crammer_singer']\n",
    "}\n",
    "\n",
    "grid = GridSearchCV(LinearSVC(dual=False, max_iter = 10000), param_grid, cv=5, scoring='accuracy')\n",
    "grid.fit(X_train, y_train)\n",
    "\n",
    "best_model = grid.best_estimator_\n",
    "\n",
    "y_pred = best_model.predict(X_test)\n",
    "\n",
    "print(\"Best Parameters:\\n\", grid.best_params_)  \n",
    "print(\"Best score:\", grid.best_score_)"
   ]
  }
 ],
 "metadata": {
  "kernelspec": {
   "display_name": "venv",
   "language": "python",
   "name": "python3"
  },
  "language_info": {
   "codemirror_mode": {
    "name": "ipython",
    "version": 3
   },
   "file_extension": ".py",
   "mimetype": "text/x-python",
   "name": "python",
   "nbconvert_exporter": "python",
   "pygments_lexer": "ipython3",
   "version": "3.11.9"
  }
 },
 "nbformat": 4,
 "nbformat_minor": 5
}
