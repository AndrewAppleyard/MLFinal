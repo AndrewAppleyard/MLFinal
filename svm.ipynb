{
 "cells": [
  {
   "cell_type": "code",
   "execution_count": 1,
   "id": "fde11e97",
   "metadata": {},
   "outputs": [],
   "source": [
    "import pandas as pd\n",
    "import numpy as np\n",
    "import seaborn as sns\n",
    "import matplotlib.pyplot as plt\n",
    "from sklearn.model_selection import train_test_split\n",
    "from sklearn.feature_selection import RFE\n",
    "from sklearn.tree import DecisionTreeClassifier, plot_tree\n",
    "from sklearn import metrics, svm\n",
    "from sklearn.svm import LinearSVC\n",
    "from sklearn.metrics import classification_report\n",
    "pd.set_option(\"display.max_rows\", None, \"display.max_columns\", None)"
   ]
  },
  {
   "cell_type": "code",
   "execution_count": 2,
   "id": "cca01416",
   "metadata": {},
   "outputs": [],
   "source": [
    "d2024 = pd.read_csv(\"pppub24.csv\")\n",
    "d2023 = pd.read_csv(\"pppub23.csv\")\n",
    "d2022 = pd.read_csv(\"pppub22.csv\")\n",
    "d2021 = pd.read_csv(\"pppub21.csv\")\n",
    "\n",
    "data = pd.concat([d2024, d2023, d2022, d2021], ignore_index=True)\n",
    "data = data.sample(frac=0.015, random_state=42)\n",
    "\n",
    "rfe_features100 = data[['HHDFMX', 'POTHVAL', 'RESNSS1', 'RESNSS2', 'RESNSSI1', 'RESNSSI2', 'RETCB_VAL', 'RETCB_YN', 'RINT_SC1', 'RINT_SC2', 'RINT_VAL1', 'RINT_VAL2', 'RINT_YN', 'RNT_VAL', 'RNT_YN', 'SRVS_VAL', 'SS_VAL', 'SS_YN', 'SSI_VAL', 'SSI_YN', 'STRKUC', 'SUBUC', 'SUR_SC1', 'SUR_SC2', 'SUR_VAL1', 'SUR_VAL2', 'SUR_YN', 'TRDINT_VAL', 'TSURVAL1', 'TSURVAL2', 'UC_VAL', 'UC_YN', 'VET_QVA', 'VET_TYP1', 'VET_TYP2', 'VET_TYP3', 'VET_TYP4', 'VET_TYP5', 'VET_VAL', 'VET_YN', 'WC_TYPE', 'WC_VAL', 'WC_YN', 'PAW_MON', 'PAW_TYP', 'PAW_VAL', 'PAW_YN', 'PENINCL', 'PENPLAN', 'WICYN', 'CHCARE_YN', 'CHELSEW_YN', 'CHSP_VAL', 'CHSP_YN', 'CSP_VAL', 'CSP_YN', 'ACTC_CRD', 'CTC_CRD', 'DEP_STAT', 'EIT_CRED', 'FEDTAX_AC', 'FEDTAX_BC', 'FICA', 'FILESTAT', 'MARG_TAX', 'PRSWKXPNS', 'STATETAX_A', 'STATETAX_B', 'PERLIS', 'POV_UNIV', 'COV', 'COV_CYR', 'COV_MULT_CYR', 'NOCOV_CYR', 'NOW_COV', 'NOW_PUB', 'PUB', 'PUB_CYR', 'NOW_DEPPRIV', 'NOW_OUTPRIV', 'NOW_OWNPRIV', 'NOW_PRIV', 'OUTPRIV', 'OWNPRIV', 'PRIV', 'PRIV_CYR', 'DEPGRP', 'GRPFTYP', 'GRPFTYP2', 'MRK', 'NOW_CAID', 'NOW_PCHIP', 'NOW_MCARE', 'NOW_IHSFLG', 'NOW_VACARE', 'PECOULD', 'ESIOFFER']]\n",
    "rfe_features50 = data[['CHCARE_YN', 'CHELSEW_YN', 'CHSP_VAL', 'CHSP_YN', 'CSP_VAL', 'CSP_YN', 'ACTC_CRD', 'CTC_CRD', 'DEP_STAT', 'EIT_CRED', 'FEDTAX_AC', 'FEDTAX_BC', 'FICA', 'FILESTAT', 'MARG_TAX', 'PRSWKXPNS', 'STATETAX_A', 'STATETAX_B', 'PERLIS', 'POV_UNIV', 'COV', 'COV_CYR', 'COV_MULT_CYR', 'NOCOV_CYR', 'NOW_COV', 'NOW_PUB', 'PUB', 'DEPPRIV', 'NOW_DEPPRIV', 'NOW_OUTPRIV', 'NOW_OWNPRIV', 'NOW_PRIV', 'OUTPRIV', 'OWNPRIV', 'PRIV', 'PRIV_CYR', 'GRP', 'GRPFTYP', 'GRPFTYP2', 'NOW_MCAID', 'NOW_CAID', 'NOW_PCHIP', 'NOW_MCARE', 'NOW_IHSFLG', 'ESICOULD']]\n",
    "rfe_features20 = data[['CSP_VAL', 'CSP_YN', 'FEDTAX_AC', 'FEDTAX_BC', 'FICA', 'FILESTAT', 'PRSWKXPNS', 'STATETAX_A', 'STATETAX_B', 'PERLIS', 'COV_MULT_CYR', 'DEPPRIV', 'NOW_OWNPRIV', 'OWNPRIV', 'GRPFTYP2', 'NOW_MCARE']]"
   ]
  },
  {
   "cell_type": "code",
   "execution_count": 3,
   "id": "0cd7edc3",
   "metadata": {},
   "outputs": [
    {
     "name": "stdout",
     "output_type": "stream",
     "text": [
      "Accuracy: 0.49743589743589745\n",
      "\n",
      "Classification Report:\n",
      "              precision    recall  f1-score   support\n",
      "\n",
      "           0       1.00      1.00      1.00       527\n",
      "           1       0.91      1.00      0.95       371\n",
      "           2       0.00      0.00      0.00        47\n",
      "           3       0.11      0.02      0.03        52\n",
      "           4       0.23      0.20      0.22        54\n",
      "           5       0.23      0.43      0.30        84\n",
      "           6       0.21      0.14      0.17        64\n",
      "           7       0.11      0.19      0.14        84\n",
      "           8       0.14      0.08      0.10        60\n",
      "           9       0.15      0.31      0.20        81\n",
      "          10       0.00      0.00      0.00        62\n",
      "          11       0.10      0.07      0.08        73\n",
      "          12       0.00      0.00      0.00        44\n",
      "          13       0.16      0.41      0.23        91\n",
      "          14       0.00      0.00      0.00        28\n",
      "          15       0.08      0.03      0.05        59\n",
      "          16       0.00      0.00      0.00        34\n",
      "          17       0.17      0.16      0.16        62\n",
      "          18       0.29      0.06      0.11        31\n",
      "          19       0.00      0.00      0.00        56\n",
      "          20       0.00      0.00      0.00        31\n",
      "          21       0.10      0.37      0.16        60\n",
      "          22       0.00      0.00      0.00        35\n",
      "          23       0.00      0.00      0.00        33\n",
      "          24       0.00      0.00      0.00        18\n",
      "          25       0.07      0.07      0.07        46\n",
      "          26       0.00      0.00      0.00        18\n",
      "          27       0.20      0.03      0.05        38\n",
      "          28       0.14      0.06      0.08        17\n",
      "          29       0.06      0.06      0.06        33\n",
      "          30       0.00      0.00      0.00        27\n",
      "          31       0.14      0.04      0.06        25\n",
      "          32       0.00      0.00      0.00        10\n",
      "          33       0.11      0.04      0.06        23\n",
      "          34       0.00      0.00      0.00        15\n",
      "          35       0.00      0.00      0.00        17\n",
      "          36       0.00      0.00      0.00        11\n",
      "          37       0.00      0.00      0.00         9\n",
      "          38       0.00      0.00      0.00         4\n",
      "          39       0.00      0.00      0.00        12\n",
      "          40       0.00      0.00      0.00        13\n",
      "          41       0.80      1.00      0.89       271\n",
      "\n",
      "    accuracy                           0.50      2730\n",
      "   macro avg       0.13      0.14      0.12      2730\n",
      "weighted avg       0.45      0.50      0.46      2730\n",
      "\n"
     ]
    },
    {
     "name": "stderr",
     "output_type": "stream",
     "text": [
      "c:\\Users\\Andrew\\Desktop\\ML\\venv\\Lib\\site-packages\\sklearn\\metrics\\_classification.py:1565: UndefinedMetricWarning: Precision is ill-defined and being set to 0.0 in labels with no predicted samples. Use `zero_division` parameter to control this behavior.\n",
      "  _warn_prf(average, modifier, f\"{metric.capitalize()} is\", len(result))\n",
      "c:\\Users\\Andrew\\Desktop\\ML\\venv\\Lib\\site-packages\\sklearn\\metrics\\_classification.py:1565: UndefinedMetricWarning: Precision is ill-defined and being set to 0.0 in labels with no predicted samples. Use `zero_division` parameter to control this behavior.\n",
      "  _warn_prf(average, modifier, f\"{metric.capitalize()} is\", len(result))\n",
      "c:\\Users\\Andrew\\Desktop\\ML\\venv\\Lib\\site-packages\\sklearn\\metrics\\_classification.py:1565: UndefinedMetricWarning: Precision is ill-defined and being set to 0.0 in labels with no predicted samples. Use `zero_division` parameter to control this behavior.\n",
      "  _warn_prf(average, modifier, f\"{metric.capitalize()} is\", len(result))\n"
     ]
    }
   ],
   "source": [
    "X = rfe_features100\n",
    "y = data['PTOT_R']\n",
    "\n",
    "\n",
    "X_train, X_test, y_train, y_test = train_test_split(X, y, test_size=0.3, random_state=1)\n",
    "clf = LinearSVC(max_iter=10000)\n",
    "\n",
    "clf.fit(X_train, y_train)\n",
    "\n",
    "y_pred = clf.predict(X_test)\n",
    "\n",
    "print(\"Accuracy:\",metrics.accuracy_score(y_test, y_pred))\n",
    "print(\"\\nClassification Report:\")\n",
    "print(classification_report(y_test, y_pred))"
   ]
  }
 ],
 "metadata": {
  "kernelspec": {
   "display_name": "venv",
   "language": "python",
   "name": "python3"
  },
  "language_info": {
   "codemirror_mode": {
    "name": "ipython",
    "version": 3
   },
   "file_extension": ".py",
   "mimetype": "text/x-python",
   "name": "python",
   "nbconvert_exporter": "python",
   "pygments_lexer": "ipython3",
   "version": "3.11.9"
  }
 },
 "nbformat": 4,
 "nbformat_minor": 5
}
